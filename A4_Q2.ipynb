{
  "nbformat": 4,
  "nbformat_minor": 0,
  "metadata": {
    "colab": {
      "name": "A4-Q2.ipynb",
      "provenance": [],
      "collapsed_sections": [],
      "authorship_tag": "ABX9TyNSg0h/psCvciw40LPwjA1M",
      "include_colab_link": true
    },
    "kernelspec": {
      "name": "python3",
      "display_name": "Python 3"
    },
    "language_info": {
      "name": "python"
    },
    "widgets": {
      "application/vnd.jupyter.widget-state+json": {
        "c9085055e5a0460e9334a8bd9f7e8161": {
          "model_module": "@jupyter-widgets/controls",
          "model_name": "VBoxModel",
          "state": {
            "_view_name": "VBoxView",
            "_dom_classes": [],
            "_model_name": "VBoxModel",
            "_view_module": "@jupyter-widgets/controls",
            "_model_module_version": "1.5.0",
            "_view_count": null,
            "_view_module_version": "1.5.0",
            "box_style": "",
            "layout": "IPY_MODEL_8df20ab88e6043bbbc37993ef6ceff86",
            "_model_module": "@jupyter-widgets/controls",
            "children": [
              "IPY_MODEL_1983e910257d4349a95dba92af677830",
              "IPY_MODEL_0c75dd69520b4d1f8bff7e3f04c0421d"
            ]
          }
        },
        "8df20ab88e6043bbbc37993ef6ceff86": {
          "model_module": "@jupyter-widgets/base",
          "model_name": "LayoutModel",
          "state": {
            "_view_name": "LayoutView",
            "grid_template_rows": null,
            "right": null,
            "justify_content": null,
            "_view_module": "@jupyter-widgets/base",
            "overflow": null,
            "_model_module_version": "1.2.0",
            "_view_count": null,
            "flex_flow": null,
            "width": null,
            "min_width": null,
            "border": null,
            "align_items": null,
            "bottom": null,
            "_model_module": "@jupyter-widgets/base",
            "top": null,
            "grid_column": null,
            "overflow_y": null,
            "overflow_x": null,
            "grid_auto_flow": null,
            "grid_area": null,
            "grid_template_columns": null,
            "flex": null,
            "_model_name": "LayoutModel",
            "justify_items": null,
            "grid_row": null,
            "max_height": null,
            "align_content": null,
            "visibility": null,
            "align_self": null,
            "height": null,
            "min_height": null,
            "padding": null,
            "grid_auto_rows": null,
            "grid_gap": null,
            "max_width": null,
            "order": null,
            "_view_module_version": "1.2.0",
            "grid_template_areas": null,
            "object_position": null,
            "object_fit": null,
            "grid_auto_columns": null,
            "margin": null,
            "display": null,
            "left": null
          }
        },
        "1983e910257d4349a95dba92af677830": {
          "model_module": "@jupyter-widgets/controls",
          "model_name": "LabelModel",
          "state": {
            "_view_name": "LabelView",
            "style": "IPY_MODEL_b01b85f533af403982e2baeab8502a98",
            "_dom_classes": [],
            "description": "",
            "_model_name": "LabelModel",
            "placeholder": "​",
            "_view_module": "@jupyter-widgets/controls",
            "_model_module_version": "1.5.0",
            "value": " 0.08MB of 0.08MB uploaded (0.00MB deduped)\r",
            "_view_count": null,
            "_view_module_version": "1.5.0",
            "description_tooltip": null,
            "_model_module": "@jupyter-widgets/controls",
            "layout": "IPY_MODEL_426755996ed341859cb6c7052664636b"
          }
        },
        "0c75dd69520b4d1f8bff7e3f04c0421d": {
          "model_module": "@jupyter-widgets/controls",
          "model_name": "FloatProgressModel",
          "state": {
            "_view_name": "ProgressView",
            "style": "IPY_MODEL_c3e6f325fd43428191d166ab0202ce8a",
            "_dom_classes": [],
            "description": "",
            "_model_name": "FloatProgressModel",
            "bar_style": "",
            "max": 1,
            "_view_module": "@jupyter-widgets/controls",
            "_model_module_version": "1.5.0",
            "value": 1,
            "_view_count": null,
            "_view_module_version": "1.5.0",
            "orientation": "horizontal",
            "min": 0,
            "description_tooltip": null,
            "_model_module": "@jupyter-widgets/controls",
            "layout": "IPY_MODEL_2c17db547117409cb061b774e424388a"
          }
        },
        "b01b85f533af403982e2baeab8502a98": {
          "model_module": "@jupyter-widgets/controls",
          "model_name": "DescriptionStyleModel",
          "state": {
            "_view_name": "StyleView",
            "_model_name": "DescriptionStyleModel",
            "description_width": "",
            "_view_module": "@jupyter-widgets/base",
            "_model_module_version": "1.5.0",
            "_view_count": null,
            "_view_module_version": "1.2.0",
            "_model_module": "@jupyter-widgets/controls"
          }
        },
        "426755996ed341859cb6c7052664636b": {
          "model_module": "@jupyter-widgets/base",
          "model_name": "LayoutModel",
          "state": {
            "_view_name": "LayoutView",
            "grid_template_rows": null,
            "right": null,
            "justify_content": null,
            "_view_module": "@jupyter-widgets/base",
            "overflow": null,
            "_model_module_version": "1.2.0",
            "_view_count": null,
            "flex_flow": null,
            "width": null,
            "min_width": null,
            "border": null,
            "align_items": null,
            "bottom": null,
            "_model_module": "@jupyter-widgets/base",
            "top": null,
            "grid_column": null,
            "overflow_y": null,
            "overflow_x": null,
            "grid_auto_flow": null,
            "grid_area": null,
            "grid_template_columns": null,
            "flex": null,
            "_model_name": "LayoutModel",
            "justify_items": null,
            "grid_row": null,
            "max_height": null,
            "align_content": null,
            "visibility": null,
            "align_self": null,
            "height": null,
            "min_height": null,
            "padding": null,
            "grid_auto_rows": null,
            "grid_gap": null,
            "max_width": null,
            "order": null,
            "_view_module_version": "1.2.0",
            "grid_template_areas": null,
            "object_position": null,
            "object_fit": null,
            "grid_auto_columns": null,
            "margin": null,
            "display": null,
            "left": null
          }
        },
        "c3e6f325fd43428191d166ab0202ce8a": {
          "model_module": "@jupyter-widgets/controls",
          "model_name": "ProgressStyleModel",
          "state": {
            "_view_name": "StyleView",
            "_model_name": "ProgressStyleModel",
            "description_width": "",
            "_view_module": "@jupyter-widgets/base",
            "_model_module_version": "1.5.0",
            "_view_count": null,
            "_view_module_version": "1.2.0",
            "bar_color": null,
            "_model_module": "@jupyter-widgets/controls"
          }
        },
        "2c17db547117409cb061b774e424388a": {
          "model_module": "@jupyter-widgets/base",
          "model_name": "LayoutModel",
          "state": {
            "_view_name": "LayoutView",
            "grid_template_rows": null,
            "right": null,
            "justify_content": null,
            "_view_module": "@jupyter-widgets/base",
            "overflow": null,
            "_model_module_version": "1.2.0",
            "_view_count": null,
            "flex_flow": null,
            "width": null,
            "min_width": null,
            "border": null,
            "align_items": null,
            "bottom": null,
            "_model_module": "@jupyter-widgets/base",
            "top": null,
            "grid_column": null,
            "overflow_y": null,
            "overflow_x": null,
            "grid_auto_flow": null,
            "grid_area": null,
            "grid_template_columns": null,
            "flex": null,
            "_model_name": "LayoutModel",
            "justify_items": null,
            "grid_row": null,
            "max_height": null,
            "align_content": null,
            "visibility": null,
            "align_self": null,
            "height": null,
            "min_height": null,
            "padding": null,
            "grid_auto_rows": null,
            "grid_gap": null,
            "max_width": null,
            "order": null,
            "_view_module_version": "1.2.0",
            "grid_template_areas": null,
            "object_position": null,
            "object_fit": null,
            "grid_auto_columns": null,
            "margin": null,
            "display": null,
            "left": null
          }
        },
        "12cae13a20e5458387698fab8214c6b7": {
          "model_module": "@jupyter-widgets/controls",
          "model_name": "HBoxModel",
          "state": {
            "_view_name": "HBoxView",
            "_dom_classes": [],
            "_model_name": "HBoxModel",
            "_view_module": "@jupyter-widgets/controls",
            "_model_module_version": "1.5.0",
            "_view_count": null,
            "_view_module_version": "1.5.0",
            "box_style": "",
            "layout": "IPY_MODEL_658c798ec5774e2e8db022f0b6c6e70f",
            "_model_module": "@jupyter-widgets/controls",
            "children": [
              "IPY_MODEL_70b5ee51fef049e89a73d7856f3a0fcd",
              "IPY_MODEL_641046c8def84da7bf9ee19ff4c44308"
            ]
          }
        },
        "658c798ec5774e2e8db022f0b6c6e70f": {
          "model_module": "@jupyter-widgets/base",
          "model_name": "LayoutModel",
          "state": {
            "_view_name": "LayoutView",
            "grid_template_rows": null,
            "right": null,
            "justify_content": null,
            "_view_module": "@jupyter-widgets/base",
            "overflow": null,
            "_model_module_version": "1.2.0",
            "_view_count": null,
            "flex_flow": null,
            "width": null,
            "min_width": null,
            "border": null,
            "align_items": null,
            "bottom": null,
            "_model_module": "@jupyter-widgets/base",
            "top": null,
            "grid_column": null,
            "overflow_y": null,
            "overflow_x": null,
            "grid_auto_flow": null,
            "grid_area": null,
            "grid_template_columns": null,
            "flex": null,
            "_model_name": "LayoutModel",
            "justify_items": null,
            "grid_row": null,
            "max_height": null,
            "align_content": null,
            "visibility": null,
            "align_self": null,
            "height": null,
            "min_height": null,
            "padding": null,
            "grid_auto_rows": null,
            "grid_gap": null,
            "max_width": null,
            "order": null,
            "_view_module_version": "1.2.0",
            "grid_template_areas": null,
            "object_position": null,
            "object_fit": null,
            "grid_auto_columns": null,
            "margin": null,
            "display": null,
            "left": null
          }
        },
        "70b5ee51fef049e89a73d7856f3a0fcd": {
          "model_module": "@jupyter-widgets/controls",
          "model_name": "FloatProgressModel",
          "state": {
            "_view_name": "ProgressView",
            "style": "IPY_MODEL_e28776e4da8b4f238379e9ce02d7cd07",
            "_dom_classes": [],
            "description": "  0%",
            "_model_name": "FloatProgressModel",
            "bar_style": "",
            "max": 10,
            "_view_module": "@jupyter-widgets/controls",
            "_model_module_version": "1.5.0",
            "value": 0,
            "_view_count": null,
            "_view_module_version": "1.5.0",
            "orientation": "horizontal",
            "min": 0,
            "description_tooltip": null,
            "_model_module": "@jupyter-widgets/controls",
            "layout": "IPY_MODEL_624e9aa9c9804388b4997efbe4f773b0"
          }
        },
        "641046c8def84da7bf9ee19ff4c44308": {
          "model_module": "@jupyter-widgets/controls",
          "model_name": "HTMLModel",
          "state": {
            "_view_name": "HTMLView",
            "style": "IPY_MODEL_97c57e2c3d4d493d84ec24ea5cf936b6",
            "_dom_classes": [],
            "description": "",
            "_model_name": "HTMLModel",
            "placeholder": "​",
            "_view_module": "@jupyter-widgets/controls",
            "_model_module_version": "1.5.0",
            "value": " 0/10 [00:00&lt;?, ?it/s]",
            "_view_count": null,
            "_view_module_version": "1.5.0",
            "description_tooltip": null,
            "_model_module": "@jupyter-widgets/controls",
            "layout": "IPY_MODEL_b7a59ffc339946669310980628b39c71"
          }
        },
        "e28776e4da8b4f238379e9ce02d7cd07": {
          "model_module": "@jupyter-widgets/controls",
          "model_name": "ProgressStyleModel",
          "state": {
            "_view_name": "StyleView",
            "_model_name": "ProgressStyleModel",
            "description_width": "initial",
            "_view_module": "@jupyter-widgets/base",
            "_model_module_version": "1.5.0",
            "_view_count": null,
            "_view_module_version": "1.2.0",
            "bar_color": null,
            "_model_module": "@jupyter-widgets/controls"
          }
        },
        "624e9aa9c9804388b4997efbe4f773b0": {
          "model_module": "@jupyter-widgets/base",
          "model_name": "LayoutModel",
          "state": {
            "_view_name": "LayoutView",
            "grid_template_rows": null,
            "right": null,
            "justify_content": null,
            "_view_module": "@jupyter-widgets/base",
            "overflow": null,
            "_model_module_version": "1.2.0",
            "_view_count": null,
            "flex_flow": null,
            "width": null,
            "min_width": null,
            "border": null,
            "align_items": null,
            "bottom": null,
            "_model_module": "@jupyter-widgets/base",
            "top": null,
            "grid_column": null,
            "overflow_y": null,
            "overflow_x": null,
            "grid_auto_flow": null,
            "grid_area": null,
            "grid_template_columns": null,
            "flex": null,
            "_model_name": "LayoutModel",
            "justify_items": null,
            "grid_row": null,
            "max_height": null,
            "align_content": null,
            "visibility": null,
            "align_self": null,
            "height": null,
            "min_height": null,
            "padding": null,
            "grid_auto_rows": null,
            "grid_gap": null,
            "max_width": null,
            "order": null,
            "_view_module_version": "1.2.0",
            "grid_template_areas": null,
            "object_position": null,
            "object_fit": null,
            "grid_auto_columns": null,
            "margin": null,
            "display": null,
            "left": null
          }
        },
        "97c57e2c3d4d493d84ec24ea5cf936b6": {
          "model_module": "@jupyter-widgets/controls",
          "model_name": "DescriptionStyleModel",
          "state": {
            "_view_name": "StyleView",
            "_model_name": "DescriptionStyleModel",
            "description_width": "",
            "_view_module": "@jupyter-widgets/base",
            "_model_module_version": "1.5.0",
            "_view_count": null,
            "_view_module_version": "1.2.0",
            "_model_module": "@jupyter-widgets/controls"
          }
        },
        "b7a59ffc339946669310980628b39c71": {
          "model_module": "@jupyter-widgets/base",
          "model_name": "LayoutModel",
          "state": {
            "_view_name": "LayoutView",
            "grid_template_rows": null,
            "right": null,
            "justify_content": null,
            "_view_module": "@jupyter-widgets/base",
            "overflow": null,
            "_model_module_version": "1.2.0",
            "_view_count": null,
            "flex_flow": null,
            "width": null,
            "min_width": null,
            "border": null,
            "align_items": null,
            "bottom": null,
            "_model_module": "@jupyter-widgets/base",
            "top": null,
            "grid_column": null,
            "overflow_y": null,
            "overflow_x": null,
            "grid_auto_flow": null,
            "grid_area": null,
            "grid_template_columns": null,
            "flex": null,
            "_model_name": "LayoutModel",
            "justify_items": null,
            "grid_row": null,
            "max_height": null,
            "align_content": null,
            "visibility": null,
            "align_self": null,
            "height": null,
            "min_height": null,
            "padding": null,
            "grid_auto_rows": null,
            "grid_gap": null,
            "max_width": null,
            "order": null,
            "_view_module_version": "1.2.0",
            "grid_template_areas": null,
            "object_position": null,
            "object_fit": null,
            "grid_auto_columns": null,
            "margin": null,
            "display": null,
            "left": null
          }
        }
      }
    }
  },
  "cells": [
    {
      "cell_type": "markdown",
      "metadata": {
        "id": "view-in-github",
        "colab_type": "text"
      },
      "source": [
        "<a href=\"https://colab.research.google.com/github/shubham-kashyapi/CS6910-Deep-Learning-Assignment-4/blob/main/A4_Q2.ipynb\" target=\"_parent\"><img src=\"https://colab.research.google.com/assets/colab-badge.svg\" alt=\"Open In Colab\"/></a>"
      ]
    },
    {
      "cell_type": "code",
      "metadata": {
        "colab": {
          "resources": {
            "http://localhost:8080/nbextensions/google.colab/files.js": {
              "data": "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",
              "ok": true,
              "headers": [
                [
                  "content-type",
                  "application/javascript"
                ]
              ],
              "status": 200,
              "status_text": ""
            }
          },
          "base_uri": "https://localhost:8080/",
          "height": 110
        },
        "id": "go2-GHxlRwmu",
        "outputId": "3a270fb6-a399-4a85-bcf2-e27aeb360c9f"
      },
      "source": [
        "from google.colab import files\n",
        "files.upload() # Upload the file RBM_model.py"
      ],
      "execution_count": 1,
      "outputs": [
        {
          "output_type": "display_data",
          "data": {
            "text/html": [
              "\n",
              "     <input type=\"file\" id=\"files-22cd44b7-ec25-4b16-bde9-bb44d2d2668e\" name=\"files[]\" multiple disabled\n",
              "        style=\"border:none\" />\n",
              "     <output id=\"result-22cd44b7-ec25-4b16-bde9-bb44d2d2668e\">\n",
              "      Upload widget is only available when the cell has been executed in the\n",
              "      current browser session. Please rerun this cell to enable.\n",
              "      </output>\n",
              "      <script src=\"/nbextensions/google.colab/files.js\"></script> "
            ],
            "text/plain": [
              "<IPython.core.display.HTML object>"
            ]
          },
          "metadata": {
            "tags": []
          }
        },
        {
          "output_type": "stream",
          "text": [
            "Saving RBM_model.py to RBM_model.py\n"
          ],
          "name": "stdout"
        },
        {
          "output_type": "execute_result",
          "data": {
            "text/plain": [
              "{'RBM_model.py': b'import numpy as np\\nfrom tqdm import tqdm\\n\\nclass RBM:\\n    def __init__(self, num_visible, num_hidden):\\n        \\'\\'\\'\\n        Initializes the parameters of a RBM\\n        Parameters:\\n        num_visible - int, num_hidden - int\\n        Returns:\\n        None\\n        \\'\\'\\'\\n        self.num_visible = num_visible\\n        self.num_hidden = num_hidden\\n        #######################################\\n        # Random initialization of parameters\\n        #######################################\\n        self.W = np.random.normal(size = (self.num_hidden, self.num_visible))\\n        self.b = np.random.normal(size = (1, self.num_visible))\\n        self.c = np.random.normal(size = (self.num_hidden, 1))\\n        return\\n    \\n    def check_data_format(self, input_data):\\n        \\'\\'\\'\\n        Checks the format of visible variables\\n        \\n        Parameters:\\n        input_data - 2d numpy array (dtype=float, size = (num_samples, num_visible))\\n        Should contain only 0\\'s and 1\\'s\\n        \\n        Returns:\\n        None\\n        \\'\\'\\'\\n        if input_data.ndim != 2:\\n            raise ValueError(\"Number of dimensions of the input array should be 2\")\\n        if input_data.shape[1] != self.num_visible:\\n            raise ValueError(\"The input array should have {} columns\".format(self.num_visible))\\n        if not(((input_data == 0.0) | (input_data == 1.0)).all()):\\n            raise ValueError(\"The input array should contain only 0\\'s and 1\\'s\")\\n        return\\n    \\n    def get_hidden_rep(self, input_data):\\n        \\'\\'\\'\\n        Given the visible variables, computes the hidden representation using sampling.\\n        \\n        Parameters:\\n        input_data - 2d numpy array (dtype=float, size=(num_samples, num_visible))\\n        Should contain only 0\\'s and 1\\'s\\n        \\n        Returns:\\n        hidden_rep - 2d numpy array (dtype=float, size=(num_samples, num_hidden))\\n        Contains only 0\\'s and 1\\'s\\n        \\'\\'\\'\\n        ###################################\\n        # Checking the format of the data\\n        ###################################\\n        input_data = input_data.astype(float)\\n        self.check_data_format(input_data)\\n        \\n        ###################################\\n        # Sampling the hidden variables\\n        ###################################\\n        num_samples = input_data.shape[0]\\n        hidden_probabs = (1/(1+np.exp(self.W @ input_data.T + self.c))).T\\n        # print(hidden_probabs)\\n        random_vals = np.random.uniform(low=0.0, high=1.0, size=(num_samples, self.num_hidden))\\n        hidden_rep = (random_vals > hidden_probabs).astype(float)\\n        return hidden_rep        \\n        \\n    def train_Gibbs_Sampling(self, input_data, k, r, eta=1e-4):\\n        \\'\\'\\'\\n        Performs one epoch of training using Block Gibbs Sampling. \\n        Weights are updated after processing each training sample.\\n        \\n        Parameters:\\n        data - 2d numpy array (dtype = float, size=(num_samples, num_visible))\\n        Should contain only 0\\'s and 1\\'s\\n        k - Number of steps to be run for convergence (int)\\n        r - Number of samples to be drawn after convergence (int)\\n        eta - Learning rate (float)\\n        \\n        Returns:\\n        None\\n        \\'\\'\\'\\n        ###################################\\n        # Checking the format of the data\\n        ###################################\\n        input_data = input_data.astype(float)\\n        self.check_data_format(input_data)\\n        \\n        ###################################    \\n        # Block Gibbs Sampling\\n        ###################################\\n        for row in range(input_data.shape[0]):\\n            W_update_sum = np.zeros((self.num_hidden, self.num_visible), dtype = float)\\n            b_update_sum = np.zeros((1, self.num_visible), dtype = float)\\n            c_update_sum = np.zeros((self.num_hidden, 1), dtype = float)\\n            # Randomly initializing the visible variables\\n            visible_vars = np.random.randint(low = 0, high = 2, size = (self.num_visible, 1)).astype(float)     \\n            \\n            for step_num in range(k+r):\\n                # Sampling the hidden variables given the visible variables\\n                hidden_probs = 1/(1 + np.exp(self.W @ visible_vars + self.c)) # P(hidden var = 0 | visible vars)\\n                random_vals = np.random.uniform(low = 0.0, high = 1.0, size = (self.num_hidden, 1))\\n                hidden_vars = np.array((random_vals > hidden_probs), dtype = float).reshape(self.num_hidden, 1)\\n                # Sampling the visible variables given the hidden variables\\n                # print(hidden_vars.shape, self.W.shape, self.b.shape, self.c.shape)\\n                visible_probs = 1/(1 + np.exp(hidden_vars.T @ self.W + self.b)) # P(visible var = 0 | hidden vars)\\n                random_vals = np.random.uniform(low = 0.0, high = 1.0, size = (1, self.num_visible))\\n                visible_vars = np.array((random_vals > visible_probs), dtype = float).reshape(self.num_visible, 1)\\n                # Incrementing the updates only after step_num >= k i.e. the Markov chain has converged\\n                if step_num >= k:\\n                    W_update_sum += ((1/(1 + np.exp(-(self.W @ visible_vars + self.c)))) @ visible_vars.T)\\n                    b_update_sum += visible_vars.T\\n                    c_update_sum += (1/(1 + np.exp(-(self.W @ visible_vars + self.c))))\\n                \\n            # Updating the weights\\n            curr_visible = input_data[row, :].reshape(self.num_visible, 1) \\n            curr_sigmoid = (1/(1 + np.exp(-(self.W @ curr_visible + self.c))))\\n            self.W += eta*((curr_sigmoid @ curr_visible.T) - (1.0/r)*W_update_sum)\\n            self.b += eta*(curr_visible.T - (1.0/r)*b_update_sum)\\n            self.c += eta*(curr_sigmoid - (1.0/r)*c_update_sum)\\n        \\n    def sigmoid(self, x):\\n        val = 1/(1+np.exp(-x))\\n        return val\\n\\n    def sample_h(self, v):\\n        # print(self.W.shape, v.shape, self.c.shape)\\n        val = self.sigmoid((self.W @ v).reshape(-1,1) + self.c)\\n        flag = np.random.uniform(size=val.size).reshape(-1,1)\\n        # print(val.shape, flag.shape)\\n        return (flag < val).astype(\"float\")\\n\\n    def sample_v(self, h):\\n        # print(self.W.T.shape, h.shape, self.b.shape)\\n        val = self.sigmoid((self.W.T @ h).reshape(-1,1) + self.b)\\n        flag = np.random.uniform(size=val.size).reshape(-1,1)\\n        # print(val.shape, flag.shape)\\n        return (flag < val).astype(\"float\")\\n\\n\\n    def kstep_cd(self, v):\\n        for _ in range(self.k):\\n            h = self.sample_h(v)\\n            # print(\"h.shape:\", h.shape)\\n            v = self.sample_v(h)\\n        return v\\n\\n    def get_grads(self, curr, recons):\\n        # print(\"curr:\", curr.shape, \"recons:\", recons.shape, \"W:\", self.W.shape, \"c:\", self.c.shape)\\n        term1 = (self.sigmoid((self.W@curr).reshape(-1,1) + self.c))@ curr.T\\n        term2 = (self.sigmoid((self.W@recons).reshape(-1,1) + self.c))@ curr.T\\n        del_W = term1 - term2\\n        # print(\"del_W:\", del_W.shape)\\n\\n        del_b = curr - recons\\n        # print(\"b:\", self.b.shape)\\n        # print(\"del_b:\", del_b.shape)\\n        term1 = self.sigmoid((self.W@curr).reshape(-1,1) + self.c)\\n        term2 = self.sigmoid((self.W@recons).reshape(-1,1) + self.c)\\n        # print(self.c.shape)\\n        # print(term1.shape, term2.shape)\\n        del_c = term1 - term2\\n\\n        # print(\"del_b shape:\", del_b.shape)\\n        # print(\"del_c shape:\", del_c.shape)\\n        return del_W, del_b, del_c\\n\\n    def get_loss(self, curr):\\n        h = self.sample_h(curr)\\n        v = self.sample_v(h)\\n        loss = np.sqrt(np.mean((v-curr)**2))\\n        return loss\\n    \\n    def train_contrastive_divergence(self, input_data, eta):\\n        \\'\\'\\'\\n        Performs one epoch of training using Contrastive Divergence. \\n        Weights are updated after processing each training sample.\\n        \\n        Parameters:\\n        data - 2d numpy array (dtype = float, size = (num_samples, num_visible))\\n        Should contain only 0\\'s and 1\\'s\\n        k - Number of steps to be run for convergence (int)\\n        r - Number of samples to be drawn after convergence (int)\\n        eta - Learning rate (float)\\n        \\n        Returns:\\n        None\\n        \\'\\'\\'\\n        ###################################\\n        # Checking the format of the data\\n        ###################################\\n        input_data = input_data.astype(float)\\n        self.check_data_format(input_data)\\n        self.b = self.b.reshape(-1,1)\\n        \\n        self.overall_loss = []\\n        for _ in tqdm(range(self.epochs)):\\n            loss_list = []\\n            for row in range(input_data.shape[0]):\\n                v0 = input_data[row, :].copy()\\n                v = input_data[row, :].copy()\\n                # print(\"v.shape:\", v.shape)\\n                # print(\"hidden_layer size:\", self.num_hidden)\\n                \\n                recons = self.kstep_cd(v)\\n\\n                # Updating the weights\\n                curr = input_data[row, :].reshape(-1, 1) \\n                del_W, del_b, del_c = self.get_grads(curr, recons)\\n\\n                self.W += eta*del_W\\n                self.b += eta*del_b\\n                self.c += eta*del_c\\n\\n                loss = self.get_loss(curr)\\n                loss_list.append(loss)\\n\\n            self.overall_loss.append(np.mean(loss_list))\\n\\n    \\n    def train(self, train_type, input_data, k=None, epochs=None, r=None, eta=None):\\n        self.k = k\\n        self.r = r\\n        self.eta = eta\\n        self.epochs = epochs\\n\\n        if train_type==\"CD\":\\n            self.train_contrastive_divergence(input_data, eta)\\n        if train_type==\"BGS\":\\n            self.train_Gibbs_Sampling(input_data, k, r, eta)\\n'}"
            ]
          },
          "metadata": {
            "tags": []
          },
          "execution_count": 1
        }
      ]
    },
    {
      "cell_type": "code",
      "metadata": {
        "colab": {
          "base_uri": "https://localhost:8080/"
        },
        "id": "RqrCd2eZqxsz",
        "outputId": "4ebbcdbc-bdea-45c9-eef8-b79d93b2fafb"
      },
      "source": [
        "!pip install wandb\n",
        "import numpy as np\n",
        "from keras.datasets import fashion_mnist # Used only for loading the data\n",
        "from RBM_model import RBM\n",
        "from sklearn.linear_model import LogisticRegression\n",
        "from sklearn.utils.testing import ignore_warnings\n",
        "from sklearn.exceptions import ConvergenceWarning\n",
        "import wandb\n",
        "from tqdm.notebook import tqdm"
      ],
      "execution_count": 2,
      "outputs": [
        {
          "output_type": "stream",
          "text": [
            "Collecting wandb\n",
            "\u001b[?25l  Downloading https://files.pythonhosted.org/packages/98/5f/45439b4767334b868e1c8c35b1b0ba3747d8c21be77b79f09eed7aa3c72b/wandb-0.10.30-py2.py3-none-any.whl (1.8MB)\n",
            "\u001b[K     |████████████████████████████████| 1.8MB 3.0MB/s \n",
            "\u001b[?25hRequirement already satisfied: python-dateutil>=2.6.1 in /usr/local/lib/python3.7/dist-packages (from wandb) (2.8.1)\n",
            "Collecting pathtools\n",
            "  Downloading https://files.pythonhosted.org/packages/e7/7f/470d6fcdf23f9f3518f6b0b76be9df16dcc8630ad409947f8be2eb0ed13a/pathtools-0.1.2.tar.gz\n",
            "Requirement already satisfied: requests<3,>=2.0.0 in /usr/local/lib/python3.7/dist-packages (from wandb) (2.23.0)\n",
            "Collecting sentry-sdk>=0.4.0\n",
            "\u001b[?25l  Downloading https://files.pythonhosted.org/packages/1c/4a/a54b254f67d8f4052338d54ebe90126f200693440a93ef76d254d581e3ec/sentry_sdk-1.1.0-py2.py3-none-any.whl (131kB)\n",
            "\u001b[K     |████████████████████████████████| 133kB 18.6MB/s \n",
            "\u001b[?25hCollecting GitPython>=1.0.0\n",
            "\u001b[?25l  Downloading https://files.pythonhosted.org/packages/27/da/6f6224fdfc47dab57881fe20c0d1bc3122be290198ba0bf26a953a045d92/GitPython-3.1.17-py3-none-any.whl (166kB)\n",
            "\u001b[K     |████████████████████████████████| 174kB 18.9MB/s \n",
            "\u001b[?25hRequirement already satisfied: promise<3,>=2.0 in /usr/local/lib/python3.7/dist-packages (from wandb) (2.3)\n",
            "Requirement already satisfied: six>=1.13.0 in /usr/local/lib/python3.7/dist-packages (from wandb) (1.15.0)\n",
            "Collecting docker-pycreds>=0.4.0\n",
            "  Downloading https://files.pythonhosted.org/packages/f5/e8/f6bd1eee09314e7e6dee49cbe2c5e22314ccdb38db16c9fc72d2fa80d054/docker_pycreds-0.4.0-py2.py3-none-any.whl\n",
            "Requirement already satisfied: PyYAML in /usr/local/lib/python3.7/dist-packages (from wandb) (3.13)\n",
            "Collecting configparser>=3.8.1\n",
            "  Downloading https://files.pythonhosted.org/packages/fd/01/ff260a18caaf4457eb028c96eeb405c4a230ca06c8ec9c1379f813caa52e/configparser-5.0.2-py3-none-any.whl\n",
            "Requirement already satisfied: psutil>=5.0.0 in /usr/local/lib/python3.7/dist-packages (from wandb) (5.4.8)\n",
            "Requirement already satisfied: protobuf>=3.12.0 in /usr/local/lib/python3.7/dist-packages (from wandb) (3.12.4)\n",
            "Requirement already satisfied: Click>=7.0 in /usr/local/lib/python3.7/dist-packages (from wandb) (8.0.0)\n",
            "Collecting subprocess32>=3.5.3\n",
            "\u001b[?25l  Downloading https://files.pythonhosted.org/packages/32/c8/564be4d12629b912ea431f1a50eb8b3b9d00f1a0b1ceff17f266be190007/subprocess32-3.5.4.tar.gz (97kB)\n",
            "\u001b[K     |████████████████████████████████| 102kB 9.6MB/s \n",
            "\u001b[?25hCollecting shortuuid>=0.5.0\n",
            "  Downloading https://files.pythonhosted.org/packages/25/a6/2ecc1daa6a304e7f1b216f0896b26156b78e7c38e1211e9b798b4716c53d/shortuuid-1.0.1-py3-none-any.whl\n",
            "Requirement already satisfied: certifi>=2017.4.17 in /usr/local/lib/python3.7/dist-packages (from requests<3,>=2.0.0->wandb) (2020.12.5)\n",
            "Requirement already satisfied: chardet<4,>=3.0.2 in /usr/local/lib/python3.7/dist-packages (from requests<3,>=2.0.0->wandb) (3.0.4)\n",
            "Requirement already satisfied: idna<3,>=2.5 in /usr/local/lib/python3.7/dist-packages (from requests<3,>=2.0.0->wandb) (2.10)\n",
            "Requirement already satisfied: urllib3!=1.25.0,!=1.25.1,<1.26,>=1.21.1 in /usr/local/lib/python3.7/dist-packages (from requests<3,>=2.0.0->wandb) (1.24.3)\n",
            "Collecting gitdb<5,>=4.0.1\n",
            "\u001b[?25l  Downloading https://files.pythonhosted.org/packages/ea/e8/f414d1a4f0bbc668ed441f74f44c116d9816833a48bf81d22b697090dba8/gitdb-4.0.7-py3-none-any.whl (63kB)\n",
            "\u001b[K     |████████████████████████████████| 71kB 7.3MB/s \n",
            "\u001b[?25hRequirement already satisfied: typing-extensions>=3.7.4.0; python_version < \"3.8\" in /usr/local/lib/python3.7/dist-packages (from GitPython>=1.0.0->wandb) (3.7.4.3)\n",
            "Requirement already satisfied: setuptools in /usr/local/lib/python3.7/dist-packages (from protobuf>=3.12.0->wandb) (56.1.0)\n",
            "Collecting smmap<5,>=3.0.1\n",
            "  Downloading https://files.pythonhosted.org/packages/68/ee/d540eb5e5996eb81c26ceffac6ee49041d473bc5125f2aa995cf51ec1cf1/smmap-4.0.0-py2.py3-none-any.whl\n",
            "Building wheels for collected packages: pathtools, subprocess32\n",
            "  Building wheel for pathtools (setup.py) ... \u001b[?25l\u001b[?25hdone\n",
            "  Created wheel for pathtools: filename=pathtools-0.1.2-cp37-none-any.whl size=8786 sha256=5a6376973888e4d228967f4ffc58706335a0cf2b78864f7c3ed9045f2657fda3\n",
            "  Stored in directory: /root/.cache/pip/wheels/0b/04/79/c3b0c3a0266a3cb4376da31e5bfe8bba0c489246968a68e843\n",
            "  Building wheel for subprocess32 (setup.py) ... \u001b[?25l\u001b[?25hdone\n",
            "  Created wheel for subprocess32: filename=subprocess32-3.5.4-cp37-none-any.whl size=6489 sha256=d418fa9018dbd1dc331a7d115849d8cf8065ce9402342376793919d411d09489\n",
            "  Stored in directory: /root/.cache/pip/wheels/68/39/1a/5e402bdfdf004af1786c8b853fd92f8c4a04f22aad179654d1\n",
            "Successfully built pathtools subprocess32\n",
            "Installing collected packages: pathtools, sentry-sdk, smmap, gitdb, GitPython, docker-pycreds, configparser, subprocess32, shortuuid, wandb\n",
            "Successfully installed GitPython-3.1.17 configparser-5.0.2 docker-pycreds-0.4.0 gitdb-4.0.7 pathtools-0.1.2 sentry-sdk-1.1.0 shortuuid-1.0.1 smmap-4.0.0 subprocess32-3.5.4 wandb-0.10.30\n"
          ],
          "name": "stdout"
        },
        {
          "output_type": "stream",
          "text": [
            "/usr/local/lib/python3.7/dist-packages/sklearn/utils/deprecation.py:144: FutureWarning: The sklearn.utils.testing module is  deprecated in version 0.22 and will be removed in version 0.24. The corresponding classes / functions should instead be imported from sklearn.utils. Anything that cannot be imported from sklearn.utils is now part of the private API.\n",
            "  warnings.warn(message, FutureWarning)\n"
          ],
          "name": "stderr"
        }
      ]
    },
    {
      "cell_type": "code",
      "metadata": {
        "colab": {
          "base_uri": "https://localhost:8080/"
        },
        "id": "-exnstGLR3U-",
        "outputId": "dc66a9ee-055c-4184-9d21-aca218d9391a"
      },
      "source": [
        "###############################\n",
        "# Preparing the data\n",
        "###############################\n",
        "# Loading the pre-shuffled fashion mnist dataset\n",
        "(X_fashion_train, y_fashion_train), (X_fashion_test, y_fashion_test) = fashion_mnist.load_data()\n",
        "# Using only a part of the training data and splitting it into training and validation sets\n",
        "X_train = (X_fashion_train.reshape(60000, 784)[:10000, :] > 127).astype(float)\n",
        "y_train = y_fashion_train[:10000]\n",
        "X_val = (X_fashion_train.reshape(60000, 784)[10000 : 12500, :] > 127).astype(float)\n",
        "y_val = y_fashion_train[10000 : 12500]\n",
        "# Using only a part of the test data\n",
        "X_test = (X_fashion_test.reshape(10000, 784)[:2500, :] > 127).astype(float)\n",
        "y_test = y_fashion_test[:2500]\n",
        "# Checking the shapes\n",
        "print(X_train.shape, y_train.shape, X_val.shape, y_val.shape, X_test.shape, y_test.shape)"
      ],
      "execution_count": 3,
      "outputs": [
        {
          "output_type": "stream",
          "text": [
            "Downloading data from https://storage.googleapis.com/tensorflow/tf-keras-datasets/train-labels-idx1-ubyte.gz\n",
            "32768/29515 [=================================] - 0s 0us/step\n",
            "Downloading data from https://storage.googleapis.com/tensorflow/tf-keras-datasets/train-images-idx3-ubyte.gz\n",
            "26427392/26421880 [==============================] - 0s 0us/step\n",
            "Downloading data from https://storage.googleapis.com/tensorflow/tf-keras-datasets/t10k-labels-idx1-ubyte.gz\n",
            "8192/5148 [===============================================] - 0s 0us/step\n",
            "Downloading data from https://storage.googleapis.com/tensorflow/tf-keras-datasets/t10k-images-idx3-ubyte.gz\n",
            "4423680/4422102 [==============================] - 0s 0us/step\n",
            "(10000, 784) (10000,) (2500, 784) (2500,) (2500, 784) (2500,)\n"
          ],
          "name": "stdout"
        }
      ]
    },
    {
      "cell_type": "code",
      "metadata": {
        "id": "zM5BLtlWR8Fe"
      },
      "source": [
        "###################################################\n",
        "# Listing the hyperparameters in a wandb config \n",
        "###################################################\n",
        "sweep_config = {'name': 'random-test-sweep', 'method': 'grid'}\n",
        "sweep_config['metric'] = {'name': 'test_acc', 'goal': 'maximize'}\n",
        "parameters_dict = {\n",
        "                   'num_hidden_vars': {'values': [64, 128, 256]},     # n - mentioned in question 2\n",
        "                   'k': {'values': [200]},                            # k - mentioned in question 2\n",
        "                   'r': {'values': [10, 20, 30]},                     # r - mentioned in question 2\n",
        "                   'num_visible_vars': {'values': [784]},\n",
        "                   'num_classes': {'values': [10]},\n",
        "                   'rbm_train_type': {'values': ['BGS']},\n",
        "                   'num_epochs_rbm': {'values': [10]},   # Number of epochs used for training the RBM\n",
        "                   'eta_rbm': {'values': [1e-4]}\n",
        "                  }\n",
        "sweep_config['parameters'] = parameters_dict"
      ],
      "execution_count": 4,
      "outputs": []
    },
    {
      "cell_type": "code",
      "metadata": {
        "id": "-f-UsgYPR9Pm"
      },
      "source": [
        "#####################################\n",
        "# Defining the train function\n",
        "#####################################\n",
        "@ignore_warnings(category = ConvergenceWarning)\n",
        "def RBM_wandb_logs(config = sweep_config):\n",
        "    with wandb.init(config = config):\n",
        "        config = wandb.init(reinit = True).config\n",
        "        wandb.run.name = 'numHiddenVars_{}_k_{}_r_{}'.format(config.num_hidden_vars, \\\n",
        "                          config.k, config.r)\n",
        "        \n",
        "        ###########################################\n",
        "        # Training a classifier using RBM\n",
        "        ###########################################\n",
        "        RBM_mod = RBM(num_visible = config.num_visible_vars, num_hidden = config.num_hidden_vars)\n",
        "        #test_acc_hist = []\n",
        "\n",
        "        for epoch_num in tqdm(range(config.num_epochs_rbm)):\n",
        "            # Training the RBM for one epoch\n",
        "            RBM_mod.train(train_type = config.rbm_train_type, input_data = X_train, k = config.k, \\\n",
        "                          r = config.r, eta = config.eta_rbm)\n",
        "            \n",
        "            # Getting hidden representations of the validation data and test data\n",
        "            X_val_hidden = RBM_mod.get_hidden_rep(X_val)\n",
        "            X_test_hidden = RBM_mod.get_hidden_rep(X_test)\n",
        "            \n",
        "            # Training a logistic classifier on the validation data \n",
        "            logistic_clf = LogisticRegression()            \n",
        "            logistic_clf.fit(X_val_hidden, y_val)\n",
        "            \n",
        "            # Evaluating the classifier on the validation data and test data\n",
        "            y_val_pred = logistic_clf.predict(X_val_hidden)\n",
        "            y_val_logprob = logistic_clf.predict_log_proba(X_val_hidden)\n",
        "            val_acc = np.mean(y_val_pred == y_val)\n",
        "            val_loss = np.mean(-1*y_val_logprob[np.arange(y_val.shape[0]), y_val])\n",
        "            \n",
        "            y_test_pred = logistic_clf.predict(X_test_hidden)\n",
        "            y_test_logprob = logistic_clf.predict_log_proba(X_test_hidden)\n",
        "            test_acc = np.mean(y_test_pred == y_test)\n",
        "            test_loss = np.mean(-1*y_test_logprob[np.arange(y_test.shape[0]), y_test])\n",
        "\n",
        "            '''\n",
        "            # Early stopping\n",
        "            if epoch_num >= config.patience_rbm and test_acc_hist[epoch_num-config.patience_rbm] > test_acc:\n",
        "                break\n",
        "            test_acc_hist.append(test_acc)\n",
        "            '''\n",
        "\n",
        "            # Logging metrics to wandb\n",
        "            wandb.log({'val_loss': val_loss, 'val_acc': val_acc, \\\n",
        "                       'test_loss': test_loss, 'test_acc': test_acc})\n",
        "            "
      ],
      "execution_count": 5,
      "outputs": []
    },
    {
      "cell_type": "code",
      "metadata": {
        "colab": {
          "base_uri": "https://localhost:8080/",
          "height": 654,
          "referenced_widgets": [
            "c9085055e5a0460e9334a8bd9f7e8161",
            "8df20ab88e6043bbbc37993ef6ceff86",
            "1983e910257d4349a95dba92af677830",
            "0c75dd69520b4d1f8bff7e3f04c0421d",
            "b01b85f533af403982e2baeab8502a98",
            "426755996ed341859cb6c7052664636b",
            "c3e6f325fd43428191d166ab0202ce8a",
            "2c17db547117409cb061b774e424388a",
            "12cae13a20e5458387698fab8214c6b7",
            "658c798ec5774e2e8db022f0b6c6e70f",
            "70b5ee51fef049e89a73d7856f3a0fcd",
            "641046c8def84da7bf9ee19ff4c44308",
            "e28776e4da8b4f238379e9ce02d7cd07",
            "624e9aa9c9804388b4997efbe4f773b0",
            "97c57e2c3d4d493d84ec24ea5cf936b6",
            "b7a59ffc339946669310980628b39c71"
          ]
        },
        "id": "7qZDYuFESGx7",
        "outputId": "0ffba8cc-4fbc-47b1-d8e3-8fc981858a81"
      },
      "source": [
        "#################################\n",
        "# Setting up wandb sweeps\n",
        "#################################\n",
        "sweep_id = wandb.sweep(sweep_config, project = 'DL-Assignment4-25May-BGS-2')\n",
        "wandb.agent(sweep_id, function = RBM_wandb_logs)"
      ],
      "execution_count": null,
      "outputs": [
        {
          "output_type": "stream",
          "text": [
            "Create sweep with ID: difwyxve\n",
            "Sweep URL: https://wandb.ai/cs6910-team/DL-Assignment4-25May-BGS-2/sweeps/difwyxve\n"
          ],
          "name": "stdout"
        },
        {
          "output_type": "stream",
          "text": [
            "\u001b[34m\u001b[1mwandb\u001b[0m: Agent Starting Run: wifscbtu with config:\n",
            "\u001b[34m\u001b[1mwandb\u001b[0m: \teta_rbm: 0.0001\n",
            "\u001b[34m\u001b[1mwandb\u001b[0m: \tk: 200\n",
            "\u001b[34m\u001b[1mwandb\u001b[0m: \tnum_classes: 10\n",
            "\u001b[34m\u001b[1mwandb\u001b[0m: \tnum_epochs_rbm: 10\n",
            "\u001b[34m\u001b[1mwandb\u001b[0m: \tnum_hidden_vars: 64\n",
            "\u001b[34m\u001b[1mwandb\u001b[0m: \tnum_visible_vars: 784\n",
            "\u001b[34m\u001b[1mwandb\u001b[0m: \tr: 10\n",
            "\u001b[34m\u001b[1mwandb\u001b[0m: \trbm_train_type: BGS\n"
          ],
          "name": "stderr"
        },
        {
          "output_type": "display_data",
          "data": {
            "text/html": [
              "\n",
              "                Tracking run with wandb version 0.10.30<br/>\n",
              "                Syncing run <strong style=\"color:#cdcd00\">wobbly-sweep-1</strong> to <a href=\"https://wandb.ai\" target=\"_blank\">Weights & Biases</a> <a href=\"https://docs.wandb.com/integrations/jupyter.html\" target=\"_blank\">(Documentation)</a>.<br/>\n",
              "                Project page: <a href=\"https://wandb.ai/cs6910-team/DL-Assignment4-25May-BGS-2\" target=\"_blank\">https://wandb.ai/cs6910-team/DL-Assignment4-25May-BGS-2</a><br/>\n",
              "                Sweep page: <a href=\"https://wandb.ai/cs6910-team/DL-Assignment4-25May-BGS-2/sweeps/difwyxve\" target=\"_blank\">https://wandb.ai/cs6910-team/DL-Assignment4-25May-BGS-2/sweeps/difwyxve</a><br/>\n",
              "Run page: <a href=\"https://wandb.ai/cs6910-team/DL-Assignment4-25May-BGS-2/runs/wifscbtu\" target=\"_blank\">https://wandb.ai/cs6910-team/DL-Assignment4-25May-BGS-2/runs/wifscbtu</a><br/>\n",
              "                Run data is saved locally in <code>/content/wandb/run-20210524_184311-wifscbtu</code><br/><br/>\n",
              "            "
            ],
            "text/plain": [
              "<IPython.core.display.HTML object>"
            ]
          },
          "metadata": {
            "tags": []
          }
        },
        {
          "output_type": "display_data",
          "data": {
            "text/html": [
              "Finishing last run (ID:wifscbtu) before initializing another..."
            ],
            "text/plain": [
              "<IPython.core.display.HTML object>"
            ]
          },
          "metadata": {
            "tags": []
          }
        },
        {
          "output_type": "display_data",
          "data": {
            "text/html": [
              "<br/>Waiting for W&B process to finish, PID 225<br/>Program ended successfully."
            ],
            "text/plain": [
              "<IPython.core.display.HTML object>"
            ]
          },
          "metadata": {
            "tags": []
          }
        },
        {
          "output_type": "display_data",
          "data": {
            "application/vnd.jupyter.widget-view+json": {
              "model_id": "c9085055e5a0460e9334a8bd9f7e8161",
              "version_minor": 0,
              "version_major": 2
            },
            "text/plain": [
              "VBox(children=(Label(value=' 0.05MB of 0.05MB uploaded (0.00MB deduped)\\r'), FloatProgress(value=1.0, max=1.0)…"
            ]
          },
          "metadata": {
            "tags": []
          }
        },
        {
          "output_type": "display_data",
          "data": {
            "text/html": [
              "Find user logs for this run at: <code>/content/wandb/run-20210524_184311-wifscbtu/logs/debug.log</code>"
            ],
            "text/plain": [
              "<IPython.core.display.HTML object>"
            ]
          },
          "metadata": {
            "tags": []
          }
        },
        {
          "output_type": "display_data",
          "data": {
            "text/html": [
              "Find internal logs for this run at: <code>/content/wandb/run-20210524_184311-wifscbtu/logs/debug-internal.log</code>"
            ],
            "text/plain": [
              "<IPython.core.display.HTML object>"
            ]
          },
          "metadata": {
            "tags": []
          }
        },
        {
          "output_type": "display_data",
          "data": {
            "text/html": [
              "Synced 4 W&B file(s), 0 media file(s), 2 artifact file(s) and 1 other file(s)"
            ],
            "text/plain": [
              "<IPython.core.display.HTML object>"
            ]
          },
          "metadata": {
            "tags": []
          }
        },
        {
          "output_type": "display_data",
          "data": {
            "text/html": [
              "\n",
              "                    <br/>Synced <strong style=\"color:#cdcd00\">wobbly-sweep-1</strong>: <a href=\"https://wandb.ai/cs6910-team/DL-Assignment4-25May-BGS-2/runs/wifscbtu\" target=\"_blank\">https://wandb.ai/cs6910-team/DL-Assignment4-25May-BGS-2/runs/wifscbtu</a><br/>\n",
              "                "
            ],
            "text/plain": [
              "<IPython.core.display.HTML object>"
            ]
          },
          "metadata": {
            "tags": []
          }
        },
        {
          "output_type": "display_data",
          "data": {
            "text/html": [
              "...Successfully finished last run (ID:wifscbtu). Initializing new run:<br/><br/>"
            ],
            "text/plain": [
              "<IPython.core.display.HTML object>"
            ]
          },
          "metadata": {
            "tags": []
          }
        },
        {
          "output_type": "display_data",
          "data": {
            "text/html": [
              "\n",
              "                Tracking run with wandb version 0.10.30<br/>\n",
              "                Syncing run <strong style=\"color:#cdcd00\">wobbly-sweep-1</strong> to <a href=\"https://wandb.ai\" target=\"_blank\">Weights & Biases</a> <a href=\"https://docs.wandb.com/integrations/jupyter.html\" target=\"_blank\">(Documentation)</a>.<br/>\n",
              "                Project page: <a href=\"https://wandb.ai/cs6910-team/DL-Assignment4-25May-BGS-2\" target=\"_blank\">https://wandb.ai/cs6910-team/DL-Assignment4-25May-BGS-2</a><br/>\n",
              "                Sweep page: <a href=\"https://wandb.ai/cs6910-team/DL-Assignment4-25May-BGS-2/sweeps/difwyxve\" target=\"_blank\">https://wandb.ai/cs6910-team/DL-Assignment4-25May-BGS-2/sweeps/difwyxve</a><br/>\n",
              "Run page: <a href=\"https://wandb.ai/cs6910-team/DL-Assignment4-25May-BGS-2/runs/wifscbtu\" target=\"_blank\">https://wandb.ai/cs6910-team/DL-Assignment4-25May-BGS-2/runs/wifscbtu</a><br/>\n",
              "                Run data is saved locally in <code>/content/wandb/run-20210524_184313-wifscbtu</code><br/><br/>\n",
              "            "
            ],
            "text/plain": [
              "<IPython.core.display.HTML object>"
            ]
          },
          "metadata": {
            "tags": []
          }
        },
        {
          "output_type": "display_data",
          "data": {
            "application/vnd.jupyter.widget-view+json": {
              "model_id": "12cae13a20e5458387698fab8214c6b7",
              "version_minor": 0,
              "version_major": 2
            },
            "text/plain": [
              "HBox(children=(FloatProgress(value=0.0, max=10.0), HTML(value='')))"
            ]
          },
          "metadata": {
            "tags": []
          }
        }
      ]
    },
    {
      "cell_type": "code",
      "metadata": {
        "id": "KIz1-L2FlAzF"
      },
      "source": [
        ""
      ],
      "execution_count": null,
      "outputs": []
    }
  ]
}